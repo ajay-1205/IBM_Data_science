{
 "cells": [
  {
   "cell_type": "markdown",
   "id": "53716cf7",
   "metadata": {},
   "source": [
    "# Data Science Tools and Ecosystem"
   ]
  },
  {
   "cell_type": "markdown",
   "id": "2e144495",
   "metadata": {},
   "source": [
    " Data Science is one of the fastest growing and most promising career field in 21st century. In this notebook we are going to go throught the Data Science tools and ecosystem."
   ]
  },
  {
   "cell_type": "markdown",
   "id": "73227230",
   "metadata": {},
   "source": [
    "**Objectives:**\n",
    "- List popular languages for Data Science.\n",
    "- List popular libraries for Data Science.\n",
    "- Tabulate popular Data Science toools.\n",
    "- Perform arithmetic operations."
   ]
  },
  {
   "cell_type": "markdown",
   "id": "32a14e61",
   "metadata": {},
   "source": [
    "Some of the popular language that Data Scientists use are:\n",
    "1. Python\n",
    "2. R\n",
    "3. Julia"
   ]
  },
  {
   "cell_type": "markdown",
   "id": "086ca81a",
   "metadata": {},
   "source": [
    "Some of the commonly used libraries used by Data Scientists include:\n",
    "1. Numpy\n",
    "2. Pandas\n",
    "3. Scikit learn"
   ]
  },
  {
   "cell_type": "markdown",
   "id": "b97c1e9f",
   "metadata": {},
   "source": [
    "| Datat Scientists Tools |\n",
    "|------------------------|\n",
    "| Python |\n",
    "| R |\n",
    "| Scala |"
   ]
  },
  {
   "cell_type": "markdown",
   "id": "fbcc02d6",
   "metadata": {},
   "source": [
    "### Below are a few examples of evaluating arithmetic expressions in python.\n"
   ]
  },
  {
   "cell_type": "code",
   "execution_count": 5,
   "id": "8170dce1",
   "metadata": {},
   "outputs": [
    {
     "data": {
      "text/plain": [
       "17"
      ]
     },
     "execution_count": 5,
     "metadata": {},
     "output_type": "execute_result"
    }
   ],
   "source": [
    "#This a simple arithmetic expression to multiply then add integers.\n",
    "(3*4)+5"
   ]
  },
  {
   "cell_type": "code",
   "execution_count": 10,
   "id": "5ec361d7",
   "metadata": {},
   "outputs": [
    {
     "name": "stdout",
     "output_type": "stream",
     "text": [
      "3 hours 20 minutes\n"
     ]
    }
   ],
   "source": [
    "#This will convert 200 minutes to hours by diving by 60.\n",
    "min = 200\n",
    "hr = 200//60\n",
    "bal_mins = 200 - (hr*60)\n",
    "print(hr,\"hours\",bal_mins,\"minutes\")"
   ]
  },
  {
   "cell_type": "markdown",
   "id": "a6e19455",
   "metadata": {},
   "source": [
    "## Author\n",
    "Ajay S"
   ]
  },
  {
   "cell_type": "code",
   "execution_count": null,
   "id": "1d0e36a7",
   "metadata": {},
   "outputs": [],
   "source": []
  }
 ],
 "metadata": {
  "kernelspec": {
   "display_name": "Python 3 (ipykernel)",
   "language": "python",
   "name": "python3"
  },
  "language_info": {
   "codemirror_mode": {
    "name": "ipython",
    "version": 3
   },
   "file_extension": ".py",
   "mimetype": "text/x-python",
   "name": "python",
   "nbconvert_exporter": "python",
   "pygments_lexer": "ipython3",
   "version": "3.11.5"
  }
 },
 "nbformat": 4,
 "nbformat_minor": 5
}
